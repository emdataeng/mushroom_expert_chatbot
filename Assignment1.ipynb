{
 "cells": [
  {
   "cell_type": "markdown",
   "id": "a3ef7658-0999-4b4e-8f49-392215e753c0",
   "metadata": {},
   "source": [
    "# Assignment 1 - Mushroom Expert Chatbot\n",
    "Built with HuggingFace \n",
    "Eric Marquez"
   ]
  },
  {
   "cell_type": "markdown",
   "id": "3dadbeb4-a3c6-4fd2-8c83-1ac3e0dfb9c4",
   "metadata": {},
   "source": [
    "### 1. First simple generation\n",
    "For the means"
   ]
  },
  {
   "cell_type": "code",
   "execution_count": 1,
   "id": "4e4905a7-9981-4605-b16a-4cd27facd55d",
   "metadata": {},
   "outputs": [
    {
     "data": {
      "application/vnd.jupyter.widget-view+json": {
       "model_id": "6caa5637185048dc90eaf162e903cf97",
       "version_major": 2,
       "version_minor": 0
      },
      "text/plain": [
       "config.json: 0.00B [00:00, ?B/s]"
      ]
     },
     "metadata": {},
     "output_type": "display_data"
    },
    {
     "data": {
      "application/vnd.jupyter.widget-view+json": {
       "model_id": "4a359cd0eb664ba18f4c1225688b2ed3",
       "version_major": 2,
       "version_minor": 0
      },
      "text/plain": [
       "model.safetensors.index.json: 0.00B [00:00, ?B/s]"
      ]
     },
     "metadata": {},
     "output_type": "display_data"
    },
    {
     "data": {
      "application/vnd.jupyter.widget-view+json": {
       "model_id": "25de606481fe48268bb299b137c501ec",
       "version_major": 2,
       "version_minor": 0
      },
      "text/plain": [
       "Fetching 2 files:   0%|          | 0/2 [00:00<?, ?it/s]"
      ]
     },
     "metadata": {},
     "output_type": "display_data"
    },
    {
     "data": {
      "application/vnd.jupyter.widget-view+json": {
       "model_id": "289773e4ddbe4480be8e3de7605f773e",
       "version_major": 2,
       "version_minor": 0
      },
      "text/plain": [
       "model-00001-of-00002.safetensors:   0%|          | 0.00/3.98G [00:00<?, ?B/s]"
      ]
     },
     "metadata": {},
     "output_type": "display_data"
    },
    {
     "data": {
      "application/vnd.jupyter.widget-view+json": {
       "model_id": "ca1509c9be3146798e743a6675b707c2",
       "version_major": 2,
       "version_minor": 0
      },
      "text/plain": [
       "model-00002-of-00002.safetensors:   0%|          | 0.00/3.53G [00:00<?, ?B/s]"
      ]
     },
     "metadata": {},
     "output_type": "display_data"
    },
    {
     "data": {
      "application/vnd.jupyter.widget-view+json": {
       "model_id": "f44286c7b45c4df59aa148908f5d0699",
       "version_major": 2,
       "version_minor": 0
      },
      "text/plain": [
       "Loading checkpoint shards:   0%|          | 0/2 [00:00<?, ?it/s]"
      ]
     },
     "metadata": {},
     "output_type": "display_data"
    },
    {
     "data": {
      "application/vnd.jupyter.widget-view+json": {
       "model_id": "d26b4b9f6a3540a39d82c0d931cd22dc",
       "version_major": 2,
       "version_minor": 0
      },
      "text/plain": [
       "generation_config.json:   0%|          | 0.00/216 [00:00<?, ?B/s]"
      ]
     },
     "metadata": {},
     "output_type": "display_data"
    },
    {
     "name": "stderr",
     "output_type": "stream",
     "text": [
      "Some parameters are on the meta device because they were offloaded to the cpu.\n"
     ]
    },
    {
     "data": {
      "application/vnd.jupyter.widget-view+json": {
       "model_id": "06a4756d53994e20a981897f315ea114",
       "version_major": 2,
       "version_minor": 0
      },
      "text/plain": [
       "preprocessor_config.json:   0%|          | 0.00/350 [00:00<?, ?B/s]"
      ]
     },
     "metadata": {},
     "output_type": "display_data"
    },
    {
     "data": {
      "application/vnd.jupyter.widget-view+json": {
       "model_id": "d5022b2290654c54b327642ca55e9887",
       "version_major": 2,
       "version_minor": 0
      },
      "text/plain": [
       "Fetching 1 files:   0%|          | 0/1 [00:00<?, ?it/s]"
      ]
     },
     "metadata": {},
     "output_type": "display_data"
    },
    {
     "data": {
      "application/vnd.jupyter.widget-view+json": {
       "model_id": "f6a03639f311453e984f6aaf8e70611c",
       "version_major": 2,
       "version_minor": 0
      },
      "text/plain": [
       "Fetching 1 files:   0%|          | 0/1 [00:00<?, ?it/s]"
      ]
     },
     "metadata": {},
     "output_type": "display_data"
    },
    {
     "name": "stderr",
     "output_type": "stream",
     "text": [
      "The image processor of type `Qwen2VLImageProcessor` is now loaded as a fast processor by default, even if the model checkpoint was saved with a slow processor. This is a breaking change and may produce slightly different outputs. To continue using the slow processor, instantiate this class with `use_fast=False`. Note that this behavior will be extended to all models in a future release.\n"
     ]
    },
    {
     "data": {
      "application/vnd.jupyter.widget-view+json": {
       "model_id": "ebc6bcbaf88d4113b620e94f56d70c04",
       "version_major": 2,
       "version_minor": 0
      },
      "text/plain": [
       "tokenizer_config.json: 0.00B [00:00, ?B/s]"
      ]
     },
     "metadata": {},
     "output_type": "display_data"
    },
    {
     "data": {
      "application/vnd.jupyter.widget-view+json": {
       "model_id": "69a23148a3c14f6a8fe8f4ca0c26b67e",
       "version_major": 2,
       "version_minor": 0
      },
      "text/plain": [
       "vocab.json: 0.00B [00:00, ?B/s]"
      ]
     },
     "metadata": {},
     "output_type": "display_data"
    },
    {
     "data": {
      "application/vnd.jupyter.widget-view+json": {
       "model_id": "f0a64f36308a41a98c4fea5d09bf75ec",
       "version_major": 2,
       "version_minor": 0
      },
      "text/plain": [
       "merges.txt: 0.00B [00:00, ?B/s]"
      ]
     },
     "metadata": {},
     "output_type": "display_data"
    },
    {
     "data": {
      "application/vnd.jupyter.widget-view+json": {
       "model_id": "7b86706e29c545cc8852d486404f0db2",
       "version_major": 2,
       "version_minor": 0
      },
      "text/plain": [
       "tokenizer.json: 0.00B [00:00, ?B/s]"
      ]
     },
     "metadata": {},
     "output_type": "display_data"
    },
    {
     "data": {
      "application/vnd.jupyter.widget-view+json": {
       "model_id": "d5fd6b6d284b409592b3670a64a0777c",
       "version_major": 2,
       "version_minor": 0
      },
      "text/plain": [
       "Fetching 1 files:   0%|          | 0/1 [00:00<?, ?it/s]"
      ]
     },
     "metadata": {},
     "output_type": "display_data"
    },
    {
     "data": {
      "application/vnd.jupyter.widget-view+json": {
       "model_id": "62307c2a8185411eb99e82dc70838d97",
       "version_major": 2,
       "version_minor": 0
      },
      "text/plain": [
       "chat_template.json: 0.00B [00:00, ?B/s]"
      ]
     },
     "metadata": {},
     "output_type": "display_data"
    }
   ],
   "source": [
    "from transformers import Qwen2_5_VLForConditionalGeneration, AutoProcessor\n",
    "\n",
    "# fairly small but good model\n",
    "MODEL_NAME = \"Qwen/Qwen2.5-VL-3B-Instruct\"\n",
    "\n",
    "# We're using the `Qwen2_5_VLForConditionalGeneration` class to enable multimodal generation\n",
    "# Normally, you can use AutoModelForCausalLM\n",
    "model = Qwen2_5_VLForConditionalGeneration.from_pretrained(\n",
    "    MODEL_NAME,\n",
    "    dtype=\"auto\",  # automatically uses right precision based on model\n",
    "    device_map=\"auto\"  # automatically uses right device e.g. GPU if available\n",
    ")\n",
    "\n",
    "# We're using the `AutoProcessor` class to enable multimodal generation\n",
    "# Normally, you can use AutoTokenizer\n",
    "processor = AutoProcessor.from_pretrained(MODEL_NAME)"
   ]
  },
  {
   "cell_type": "code",
   "execution_count": 2,
   "id": "3912652c-ea8c-4a4e-9125-f916811c3bd9",
   "metadata": {},
   "outputs": [],
   "source": [
    "from PIL import Image\n",
    "\n",
    "from transformers import GenerationConfig\n",
    "from qwen_vl_utils import process_vision_info\n",
    "\n",
    "from transformers import TextStreamer\n"
   ]
  },
  {
   "cell_type": "code",
   "execution_count": 3,
   "id": "d142043b-a87e-4677-ac1a-13e5613d2fac",
   "metadata": {},
   "outputs": [],
   "source": [
    "DATA_PATH = \"./data\"\n",
    "#IMAGE_PATH = \"./data/engineer_fitting_prosthetic_arm.jpg\"\n",
    "#\"work/data/engineer_fitting_prosthetic_arm.jpg\"\n",
    "#im = Image.open(IMAGE_PATH)\n",
    "\n",
    "# Your code here\n",
    " "
   ]
  },
  {
   "cell_type": "code",
   "execution_count": 4,
   "id": "c8a83144-5033-4c3c-8dca-29a4308915ab",
   "metadata": {},
   "outputs": [],
   "source": [
    "import re\n",
    "\n",
    "def parse_mushroom_file(filepath: str) -> dict:\n",
    "    data = {}\n",
    "    current_key = None\n",
    "    current_lines = []\n",
    "\n",
    "    # Regex to detect filename keys (with or without colon)\n",
    "    key_pattern = re.compile(r\"^.+\\.(jpg|jpeg|png|gif):?$\", re.IGNORECASE)\n",
    "\n",
    "    with open(filepath, encoding=\"utf-8\") as f:\n",
    "        for line in f:\n",
    "            line = line.rstrip(\"\\n\")\n",
    "\n",
    "            if key_pattern.match(line.strip()):\n",
    "                # Save the previous entry if any\n",
    "                if current_key is not None:\n",
    "                    data[current_key] = \" \".join(current_lines).strip()\n",
    "\n",
    "                # Normalize key (remove trailing colon if present)\n",
    "                current_key = line.strip().rstrip(\":\")\n",
    "                current_lines = []\n",
    "            elif line.strip():  # non-empty description line\n",
    "                current_lines.append(line.strip())\n",
    "\n",
    "        # Save the last entry\n",
    "        if current_key is not None:\n",
    "            data[current_key] = \" \".join(current_lines).strip()\n",
    "\n",
    "    return data\n"
   ]
  },
  {
   "cell_type": "code",
   "execution_count": 14,
   "id": "71695ce8-467f-464d-90af-e3239f1b641c",
   "metadata": {},
   "outputs": [
    {
     "name": "stdout",
     "output_type": "stream",
     "text": [
      "mushroom_copper_spike.jpg -> A picture of two copper spike mushrooms growing in the fores...\n",
      "mushroom_deadly_webcap.jpg -> A picture of five deadly webcap mushrooms growing in the for...\n",
      "mushroom_false_chanterelle.jpg -> A picture of three false chanterelle mushroom growing in the...\n",
      "mushroom_parasol_topview.jpg -> A picture of a false parasol mushroom growing on grass. The ...\n"
     ]
    }
   ],
   "source": [
    "mushrooms_dict = parse_mushroom_file(f\"{DATA_PATH}/mushrooms.txt\")\n",
    "\n",
    "for k, v in mushrooms_dict.items():\n",
    "    print(k, \"->\", v[:60] + \"...\")\n"
   ]
  },
  {
   "cell_type": "code",
   "execution_count": 17,
   "id": "f6766202-372d-476c-8fc3-0cf912b558b9",
   "metadata": {},
   "outputs": [
    {
     "name": "stdout",
     "output_type": "stream",
     "text": [
      "[{'role': 'system', 'content': [{'type': 'text', 'text': 'You are a mushroom expert chatbot that responds to user queries about mushrooms, and you must always steer the conversation to keep it in the context of mushrooms. You provide succinct and to the point information about mushrooms based on data. You talk in mycological terms about data. You use the information given to you from the data and answers to earlier user/assistant pairs to provide information about mushrooms. '}]}, {'role': 'user', 'content': [{'type': 'image', 'image': './data/mushroom_copper_spike.jpg'}, {'type': 'text', 'text': 'Tell me the name of the mushroom or mushrooms in this picture. Tell me what type of mushrooms are. Give me their physical description. Clarify if they are edible and if not, explain why and what are the sympthoms or side effects in a person, in this last case explain if there is a known treatment or antidote. Mention if there is any similarity with other specties. Lastly, you may mention any other documented fact about the mushroom.'}]}, {'role': 'assistant', 'content': [{'type': 'text', 'text': 'A picture of two copper spike mushrooms growing in the forest. They are brown and shiny. They are considered mediocre edible mushrooms.'}]}, {'role': 'user', 'content': [{'type': 'image', 'image': './data/mushroom_deadly_webcap.jpg'}, {'type': 'text', 'text': 'Tell me the name of the mushroom or mushrooms in this picture. Tell me what type of mushrooms are. Give me their physical description. Clarify if they are edible and if not, explain why and what are the sympthoms or side effects in a person, in this last case explain if there is a known treatment or antidote. Mention if there is any similarity with other specties. Lastly, you may mention any other documented fact about the mushroom.'}]}, {'role': 'assistant', 'content': [{'type': 'text', 'text': 'A picture of five deadly webcap mushrooms growing in the forest. They are orange colors with brown snake-like patterns on the stipe. They are absolutely deadly as they contain the toxin orellanine, which causes acute kidney failure. There is no known antidote.'}]}, {'role': 'user', 'content': [{'type': 'image', 'image': './data/mushroom_false_chanterelle.jpg'}, {'type': 'text', 'text': 'Tell me the name of the mushroom or mushrooms in this picture. Tell me what type of mushrooms are. Give me their physical description. Clarify if they are edible and if not, explain why and what are the sympthoms or side effects in a person, in this last case explain if there is a known treatment or antidote. Mention if there is any similarity with other specties. Lastly, you may mention any other documented fact about the mushroom.'}]}, {'role': 'assistant', 'content': [{'type': 'text', 'text': 'A picture of three false chanterelle mushroom growing in the forest. They are yellow and have gills. They are considered inedible as they can cause stomach upset in some people. They are often mistaken for the edible chanterelle, but the chanterelles have ridges instead of gills, are firmer, and have a distinctive smell.'}]}, {'role': 'user', 'content': [{'type': 'image', 'image': './data/mushroom_parasol_topview.jpg'}, {'type': 'text', 'text': 'Tell me the name of the mushroom or mushrooms in this picture. Tell me what type of mushrooms are. Give me their physical description. Clarify if they are edible and if not, explain why and what are the sympthoms or side effects in a person, in this last case explain if there is a known treatment or antidote. Mention if there is any similarity with other specties. Lastly, you may mention any other documented fact about the mushroom.'}]}, {'role': 'assistant', 'content': [{'type': 'text', 'text': 'A picture of a false parasol mushroom growing on grass. The picture is taken from above, so the stipe is not visible. The mushroom is white with brown scales on the cap. This mushroom is edible but has variants that can cause stomach upset, like the false parasol. The false parasol has a bare, white stipe, while the parasol features a distinct pattern on the stipe. This image cannot be classified accurately as the stipe is not visible.'}]}]\n"
     ]
    }
   ],
   "source": [
    "#To build the conversation as a list of dictionaries\n",
    "conversation = [\n",
    "    {\n",
    "        \"role\": \"system\",\n",
    "        \"content\": [\n",
    "            {\"type\": \"text\", \"text\": \"You are a mushroom expert chatbot that responds to user queries about mushrooms, and you must always steer the conversation to keep it in the context of mushrooms. You provide succinct and to the point information about mushrooms based on data. You talk in mycological terms about data. You use the information given to you from the data and answers to earlier user/assistant pairs to provide information about mushrooms. \"}\n",
    "        ],\n",
    "    },\n",
    "]\n",
    "\n",
    "#images_dict = {\"type\": \"image\", \"image\": \"image path here\"}\n",
    "user_prompt_str = \"Tell me the name of the mushroom or mushrooms in this picture. Tell me what type of mushrooms are. Give me their physical description. Clarify if they are edible and if not, explain why and what are the sympthoms or side effects in a person, in this last case explain if there is a known treatment or antidote. Mention if there is any similarity with other specties. Lastly, you may mention any other documented fact about the mushroom.\"\n",
    "#text_descr_dict = {\"type\": \"text\", \"text\": \"text description of the picture here\"}\n",
    "#user_prompts_dict = {\"type\": \"text\", \"text\": user_prompt_str }\n",
    "#content_user_list = [] #\"List of images(dict) and its respectives users prompts(dict) here\"\n",
    "#role_user_dict ={\"role\": \"user\", \"content\": \"content_user_list here\"}\n",
    "#role_assistant_dict = {\"role\": \"assistant\", \"content\": \"content_assistant_list here\"}\n",
    "\n",
    "for k, v in mushrooms_dict.items():\n",
    "    images_dict = {\"type\": \"image\", \"image\": f\"{DATA_PATH}/{k}\"}    \n",
    "    user_prompts_dict = {\"type\": \"text\", \"text\": user_prompt_str }\n",
    "    content_user_list = [images_dict, user_prompts_dict]\n",
    "    role_user_dict ={\"role\": \"user\", \"content\": content_user_list}\n",
    "    text_descr_dict = {\"type\": \"text\", \"text\": v}\n",
    "    role_assistant_dict = {\"role\": \"assistant\", \"content\": [text_descr_dict]}\n",
    "    \n",
    "    conversation.append(role_user_dict)\n",
    "    conversation.append(role_assistant_dict)\n",
    "\n",
    "print (conversation)"
   ]
  },
  {
   "cell_type": "code",
   "execution_count": 8,
   "id": "504b9853-91b0-45fb-9aea-38f146cced5e",
   "metadata": {},
   "outputs": [],
   "source": [
    "conversation = [\n",
    "    {\n",
    "        \"role\": \"system\",\n",
    "        \"content\": [\n",
    "            {\"type\": \"text\", \"text\": \"You are a mushroom expert chatbot that responds to user queries about mushrooms, and you must always steer the conversation to keep it in the context of mushrooms. You provide succinct and to the point information about mushrooms based on data. You talk in mycological terms about data. You use the information given to you from the data and answers to earlier user/assistant pairs to provide information about mushrooms. \"}\n",
    "        ],\n",
    "    },\n",
    "    {\n",
    "        \"role\": \"user\",\n",
    "        \"content\": [\n",
    "            {\"type\": \"image\", \"image\": \"image_file\"},        \n",
    "            {\"type\": \"text\", \"text\": \"Tell me: Based on your expertise, what could had happen to the person in this picture to reach that state?\"}\n",
    "        ],\n",
    "    },\n",
    "]"
   ]
  },
  {
   "cell_type": "code",
   "execution_count": 9,
   "id": "32ac1e76-0283-4dc5-8868-50e30f05b556",
   "metadata": {},
   "outputs": [
    {
     "name": "stdout",
     "output_type": "stream",
     "text": [
      "[{'role': 'system', 'content': [{'type': 'text', 'text': 'You are a mushroom expert chatbot that responds to user queries about mushrooms, and you must always steer the conversation to keep it in the context of mushrooms. You provide succinct and to the point information about mushrooms based on data. You talk in mycological terms about data. You use the information given to you from the data and answers to earlier user/assistant pairs to provide information about mushrooms. '}]}, {'role': 'user', 'content': [{'type': 'image', 'image': 'image_file'}, {'type': 'text', 'text': 'Tell me: Based on your expertise, what could had happen to the person in this picture to reach that state?'}]}]\n"
     ]
    }
   ],
   "source": [
    "print(conversation)"
   ]
  },
  {
   "cell_type": "code",
   "execution_count": null,
   "id": "743ed8aa-1a0a-4888-83d3-8d40ef7585ae",
   "metadata": {},
   "outputs": [],
   "source": []
  }
 ],
 "metadata": {
  "kernelspec": {
   "display_name": "Python 3 (ipykernel)",
   "language": "python",
   "name": "python3"
  },
  "language_info": {
   "codemirror_mode": {
    "name": "ipython",
    "version": 3
   },
   "file_extension": ".py",
   "mimetype": "text/x-python",
   "name": "python",
   "nbconvert_exporter": "python",
   "pygments_lexer": "ipython3",
   "version": "3.12.11"
  }
 },
 "nbformat": 4,
 "nbformat_minor": 5
}
